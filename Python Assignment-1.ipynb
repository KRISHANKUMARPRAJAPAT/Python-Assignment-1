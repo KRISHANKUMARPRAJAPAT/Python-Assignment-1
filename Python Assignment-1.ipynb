{
 "cells": [
  {
   "cell_type": "markdown",
   "id": "47800b1a-9c73-42ae-a95a-00bf575160fe",
   "metadata": {},
   "source": [
    "# Q1. Which keyword is used to create a function? Create a function to return a list of odd numbers in the range of 1 to 25."
   ]
  },
  {
   "cell_type": "markdown",
   "id": "62d6adb0-87b4-41de-831c-bacb2a93a407",
   "metadata": {},
   "source": [
    "# Ans: 1 \n",
    "\n",
    "- \"Def\" keyword is used to create a function in python."
   ]
  },
  {
   "cell_type": "code",
   "execution_count": 21,
   "id": "96ae05c9-f32d-4489-97b6-de15cf27a1ab",
   "metadata": {},
   "outputs": [
    {
     "name": "stdout",
     "output_type": "stream",
     "text": [
      "[1, 3, 5, 7, 9, 11, 13, 15, 17, 19, 21, 23, 25]\n"
     ]
    }
   ],
   "source": [
    "def find_odd():\n",
    "    odd_num = [ i for i in range(1,26) if i%2 != 0]\n",
    "    return odd_num\n",
    "\n",
    "\n",
    "#Calling the function:\n",
    "result = find_odd()\n",
    "print(result)"
   ]
  },
  {
   "cell_type": "code",
   "execution_count": null,
   "id": "45e0beb3-09a9-4f70-8dd9-0cdb7edcbeeb",
   "metadata": {},
   "outputs": [],
   "source": []
  },
  {
   "cell_type": "markdown",
   "id": "29479ba2-7edb-4a64-9486-a245bba58f2d",
   "metadata": {},
   "source": [
    "# Q2. Why *args and **kwargs is used in some functions? Create a function each for *args and **kwargs to demonstrate their use."
   ]
  },
  {
   "cell_type": "markdown",
   "id": "a8d823cc-407c-4008-9c8a-9ccada2701a3",
   "metadata": {},
   "source": [
    "# Ans: 2\n",
    "\n",
    "The *args and '**kwargs' parameters are used in Python functions to accept a variable number of arguments.\n",
    "\n",
    "- (*args) :\n",
    "The *args parameter allows a function to accept any number of positional arguments. It collects all the positional arguments passed to the function into a tuple. The name args is just a convention and can be changed, but the asterisk (*) is necessary to indicate that it is collecting multiple arguments.\n",
    "\n",
    "- (kwargs) :\n",
    "The 'kwargs' parameter allows a function to accept any number of keyword arguments. It collects all the keyword arguments passed to the function into a dictionary. The name kwargs is a convention, and like args, it can be changed. The double asterisks (**) are used to indicate that it is collecting multiple keyword arguments."
   ]
  },
  {
   "cell_type": "code",
   "execution_count": 22,
   "id": "9d56504a-3748-450b-b64a-f5596d08b668",
   "metadata": {},
   "outputs": [
    {
     "name": "stdout",
     "output_type": "stream",
     "text": [
      "positional arguments:\n",
      "apple\n",
      "banana\n",
      "orange\n",
      "\n",
      "Keyword arguments:\n",
      "name:krish\n",
      "age:22\n",
      "city:rajasthan\n"
     ]
    }
   ],
   "source": [
    "def ex_func(*args , **kwargs):\n",
    "    print(\"positional arguments:\")\n",
    "    for i in args:\n",
    "        print(i)\n",
    "        \n",
    "    print(\"\\nKeyword arguments:\")\n",
    "    for key , value in kwargs.items():\n",
    "        print(f\"{key}:{value}\")\n",
    "        \n",
    "# calling the func with diffirent arguments:\n",
    "ex_func('apple' , 'banana' , 'orange' , name = 'krish' , age = 22, city = 'rajasthan' ,)"
   ]
  },
  {
   "cell_type": "code",
   "execution_count": null,
   "id": "df446403-d570-413e-9a70-3f52a97d46f7",
   "metadata": {},
   "outputs": [],
   "source": []
  },
  {
   "cell_type": "markdown",
   "id": "8063a429-532e-44c7-b93e-f711c0e262db",
   "metadata": {},
   "source": [
    "# Q3. What is an iterator in python? Name the method used to initialise the iterator object and the method used for iteration. Use these methods to print the first five elements of the given list [2, 4, 6, 8, 10, 12, 14,16, 18, 20]."
   ]
  },
  {
   "cell_type": "markdown",
   "id": "cc13c12d-f38f-4aec-8f77-e754542e4862",
   "metadata": {},
   "source": [
    "# Ans: 3\n",
    "\n",
    "**Iterator:**\n",
    "An iterator is like a tool that helps you go through a collection of things, such as a list or a set, one item at a time. It keeps track of the current position so that you can access each item in the collection without knowing all the items beforehand.\n",
    "\n",
    "- To initialize an iterator object in Python, we can use the iter() function. It takes an iterable object as an argument and returns an iterator object. The iterator object keeps track of the current position while iterating through the collection.\n",
    "\n",
    "- The method used for iteration in Python is next(). It is used to fetch the next item from the iterator. When next() is called, the iterator moves forward and returns the next item in the sequence. If there are no more items, it raises the StopIteration exception."
   ]
  },
  {
   "cell_type": "code",
   "execution_count": 23,
   "id": "74f6b58d-2f43-4a83-82b9-dcb823922eca",
   "metadata": {},
   "outputs": [
    {
     "name": "stdout",
     "output_type": "stream",
     "text": [
      "2\n",
      "4\n",
      "6\n",
      "8\n",
      "10\n"
     ]
    }
   ],
   "source": [
    "list = [2, 4, 6, 8, 10, 12, 14, 16, 18, 20]\n",
    "\n",
    "# initialize the iterator obj:\n",
    "my_iterator = iter(list)\n",
    "\n",
    "# iterate and print the first 5 elements\n",
    "for i in range(5):\n",
    "    element = next(my_iterator)\n",
    "    print(element)"
   ]
  },
  {
   "cell_type": "code",
   "execution_count": null,
   "id": "760a81f2-1286-41bf-a7c0-d768fac1aa0d",
   "metadata": {},
   "outputs": [],
   "source": []
  },
  {
   "cell_type": "markdown",
   "id": "b5beae74-adfa-4e7c-9a7b-e74cd4119375",
   "metadata": {},
   "source": [
    "# Q4. What is a generator function in python? Why yield keyword is used? Give an example of a generator function."
   ]
  },
  {
   "cell_type": "markdown",
   "id": "f838c416-b860-4f1b-8135-c6edb2e15063",
   "metadata": {},
   "source": [
    "# Ans: 4\n",
    "\n",
    "**Genrator function:**  A generator function is a special type of function that generates a sequence of values on-the-fly, rather than returning them all at once. It uses the yield keyword instead of return to provide the values in a lazy and memory-efficient manner.When a generator function is called, it returns an iterator object that can be used to iterate over the values generated by the function.\n",
    "\n",
    "\n",
    "**Why yield function used?** \n",
    "\n",
    "The benefit of using generator functions and the yield keyword is that they allow you to generate a sequence of values without needing to store them all in memory at once. Instead, values are generated on-demand as the iterator is iterated or next() is called, which is particularly useful when dealing with large or infinite sequences.\n",
    "\n"
   ]
  },
  {
   "cell_type": "code",
   "execution_count": 24,
   "id": "38609271-7aaa-42d1-9b91-64129fca4b9f",
   "metadata": {},
   "outputs": [
    {
     "name": "stdout",
     "output_type": "stream",
     "text": [
      "2\n",
      "4\n",
      "6\n",
      "8\n",
      "10\n"
     ]
    }
   ],
   "source": [
    "def even_num(start, end):\n",
    "    current = start\n",
    "    while current <= end:\n",
    "        if current % 2 == 0:\n",
    "            yield current\n",
    "        current += 1\n",
    "\n",
    "# Using the generator function\n",
    "my_generator = even_num(1, 10)\n",
    "\n",
    "# Iterating over the values\n",
    "for i in my_generator:\n",
    "    print(i)"
   ]
  },
  {
   "cell_type": "code",
   "execution_count": null,
   "id": "136cbf94-f7b5-4443-86f5-8edb16c2f342",
   "metadata": {},
   "outputs": [],
   "source": []
  },
  {
   "cell_type": "markdown",
   "id": "b4e11648-8aec-4a5d-9e7d-978f6633a558",
   "metadata": {},
   "source": [
    "# Q5. Create a generator function for prime numbers less than 1000. Use the next() method to print the first 20 prime numbers."
   ]
  },
  {
   "cell_type": "markdown",
   "id": "09315ccd-6e63-4dc6-aa81-0645cda7c998",
   "metadata": {},
   "source": [
    "# Ans: 5"
   ]
  },
  {
   "cell_type": "code",
   "execution_count": 25,
   "id": "9512ef28-918a-45fc-929a-439aed6a52f1",
   "metadata": {},
   "outputs": [
    {
     "name": "stdout",
     "output_type": "stream",
     "text": [
      "2\n",
      "3\n",
      "5\n",
      "7\n",
      "11\n",
      "13\n",
      "17\n",
      "19\n",
      "23\n",
      "29\n",
      "31\n",
      "37\n",
      "41\n",
      "43\n",
      "47\n",
      "53\n",
      "59\n",
      "61\n",
      "67\n",
      "71\n"
     ]
    }
   ],
   "source": [
    "def prime_generator():\n",
    "    prime = []\n",
    "    num = 2\n",
    "\n",
    "    while num < 1000:\n",
    "        is_prime = True\n",
    "        for i in prime:\n",
    "            if num % i == 0:\n",
    "                is_prime = False\n",
    "                break\n",
    "\n",
    "        if is_prime:\n",
    "            prime.append(num)\n",
    "            yield num\n",
    "\n",
    "        num += 1\n",
    "\n",
    "# Using the generator function with next() method\n",
    "my_generator = prime_generator()\n",
    "\n",
    "for i in range(20):\n",
    "    prime = next(my_generator)\n",
    "    print(prime)"
   ]
  },
  {
   "cell_type": "code",
   "execution_count": null,
   "id": "355a42db-1907-43b8-809f-07e911fb7c76",
   "metadata": {},
   "outputs": [],
   "source": []
  },
  {
   "cell_type": "markdown",
   "id": "a90771b9-0a7d-493e-b58f-34c376246166",
   "metadata": {},
   "source": [
    "# Q6. Write a python program to print the first 10 Fibonacci numbers using a while loop."
   ]
  },
  {
   "cell_type": "markdown",
   "id": "10c25247-4c2c-4fc8-bdb3-d121b288be27",
   "metadata": {},
   "source": [
    "# Ans: 6 "
   ]
  },
  {
   "cell_type": "code",
   "execution_count": 26,
   "id": "3abbf065-0f82-4cb7-bb42-2e001e2418bc",
   "metadata": {},
   "outputs": [
    {
     "name": "stdout",
     "output_type": "stream",
     "text": [
      "0\n",
      "1\n",
      "1\n",
      "2\n",
      "3\n",
      "5\n",
      "8\n",
      "13\n",
      "21\n",
      "34\n"
     ]
    }
   ],
   "source": [
    "n = 10  \n",
    "count = 0  \n",
    "n1, n2 = 0, 1 \n",
    "\n",
    "while count < n:\n",
    "    print(n1)\n",
    "\n",
    "    # Update Fibonacci sequence\n",
    "    nth = n1 + n2\n",
    "    n1 = n2\n",
    "    n2 = nth\n",
    "\n",
    "    count += 1"
   ]
  },
  {
   "cell_type": "code",
   "execution_count": null,
   "id": "60dd2c0b-8c06-403b-8d37-307badd802ca",
   "metadata": {},
   "outputs": [],
   "source": []
  },
  {
   "cell_type": "markdown",
   "id": "d445b3c5-ec36-45f5-8d34-f7ac1d25737d",
   "metadata": {},
   "source": [
    "# Q7. Write a List Comprehension to iterate through the given string: ‘pwskills’. Expected output: ['p', 'w', 's', 'k', 'i', 'l', 'l', 's']"
   ]
  },
  {
   "cell_type": "markdown",
   "id": "9bd1c61e-4e6a-4a64-ba44-45981e4d9389",
   "metadata": {},
   "source": [
    "#Ans: 7 "
   ]
  },
  {
   "cell_type": "code",
   "execution_count": 11,
   "id": "cdbf2b8c-1cd6-412b-a1a6-68e43bee389d",
   "metadata": {},
   "outputs": [
    {
     "name": "stdout",
     "output_type": "stream",
     "text": [
      "['p', 'w', 's', 'k', 'i', 'l', 'l', 's']\n"
     ]
    }
   ],
   "source": [
    "str = 'pwskills'\n",
    "result = [i for i in str]\n",
    "print(result)"
   ]
  },
  {
   "cell_type": "code",
   "execution_count": null,
   "id": "9b8299b2-a1f6-4f07-8d84-209466ba0016",
   "metadata": {},
   "outputs": [],
   "source": []
  },
  {
   "cell_type": "markdown",
   "id": "70a1e54a-43a7-4565-ac05-069e36b3a535",
   "metadata": {},
   "source": [
    "# Q8. Write a python program to check whether a given number is Palindrome or not using a while loop."
   ]
  },
  {
   "cell_type": "markdown",
   "id": "4fb33eea-2b8b-4d64-b42a-c419db2dbbcc",
   "metadata": {},
   "source": [
    "# Ans: 8"
   ]
  },
  {
   "cell_type": "code",
   "execution_count": 16,
   "id": "f0ad5194-638b-4cc7-a06a-2dce1c69ef50",
   "metadata": {},
   "outputs": [
    {
     "name": "stdin",
     "output_type": "stream",
     "text": [
      "Enter a number:  4554\n"
     ]
    },
    {
     "name": "stdout",
     "output_type": "stream",
     "text": [
      "4554 is a palindrome\n"
     ]
    }
   ],
   "source": [
    "def is_palindrome(number):\n",
    "    original_number = number\n",
    "    reverse_number = 0\n",
    "\n",
    "    while number > 0:\n",
    "        digit = number % 10\n",
    "        reverse_number = reverse_number * 10 + digit\n",
    "        number = number // 10\n",
    "\n",
    "    if original_number == reverse_number:\n",
    "        return True\n",
    "    else:\n",
    "        return False\n",
    "\n",
    "# Example usage:\n",
    "num = int(input(\"Enter a number: \"))\n",
    "if is_palindrome(num):\n",
    "    print(num, \"is a palindrome\")\n",
    "else:\n",
    "    print(num, \"is not a palindrome\")\n"
   ]
  },
  {
   "cell_type": "code",
   "execution_count": null,
   "id": "93a3c634-c034-4994-8266-844304c52a0f",
   "metadata": {},
   "outputs": [],
   "source": []
  },
  {
   "cell_type": "markdown",
   "id": "5a5f769d-ffba-4f3f-807c-0be30e65735e",
   "metadata": {},
   "source": [
    "# Q9. Write a code to print odd numbers from 1 to 100 using list comprehension."
   ]
  },
  {
   "cell_type": "markdown",
   "id": "88914c14-396a-4ece-8926-c258ea19328b",
   "metadata": {},
   "source": [
    "# Ans: 9"
   ]
  },
  {
   "cell_type": "code",
   "execution_count": 20,
   "id": "dfa55455-716f-41fb-9bb9-5ac22d4bd9fd",
   "metadata": {},
   "outputs": [
    {
     "name": "stdout",
     "output_type": "stream",
     "text": [
      "[1, 3, 5, 7, 9, 11, 13, 15, 17, 19, 21, 23, 25, 27, 29, 31, 33, 35, 37, 39, 41, 43, 45, 47, 49, 51, 53, 55, 57, 59, 61, 63, 65, 67, 69, 71, 73, 75, 77, 79, 81, 83, 85, 87, 89, 91, 93, 95, 97, 99]\n"
     ]
    }
   ],
   "source": [
    "num = [i for i in range(1, 101)]\n",
    "odd_numbers = [i for i in num if i % 2 != 0]\n",
    "print(odd_numbers)"
   ]
  },
  {
   "cell_type": "code",
   "execution_count": null,
   "id": "f6447ae5-141e-49b9-9bcc-8ff5140bf09d",
   "metadata": {},
   "outputs": [],
   "source": []
  },
  {
   "cell_type": "code",
   "execution_count": null,
   "id": "0d2a2205-b109-468a-a9a6-04a2c3608614",
   "metadata": {},
   "outputs": [],
   "source": []
  }
 ],
 "metadata": {
  "kernelspec": {
   "display_name": "Python 3 (ipykernel)",
   "language": "python",
   "name": "python3"
  },
  "language_info": {
   "codemirror_mode": {
    "name": "ipython",
    "version": 3
   },
   "file_extension": ".py",
   "mimetype": "text/x-python",
   "name": "python",
   "nbconvert_exporter": "python",
   "pygments_lexer": "ipython3",
   "version": "3.10.8"
  }
 },
 "nbformat": 4,
 "nbformat_minor": 5
}
